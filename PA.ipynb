{
  "cells": [
    {
      "cell_type": "code",
      "source": [
        "!pip install SimpleITK"
      ],
      "metadata": {
        "colab": {
          "base_uri": "https://localhost:8080/"
        },
        "id": "1mGayM-PWTF5",
        "outputId": "3123d2f0-5e11-4e57-c00f-ae305b3b296a"
      },
      "execution_count": 2,
      "outputs": [
        {
          "output_type": "stream",
          "name": "stdout",
          "text": [
            "Collecting SimpleITK\n",
            "  Downloading SimpleITK-2.1.1-cp37-cp37m-manylinux_2_12_x86_64.manylinux2010_x86_64.whl (48.4 MB)\n",
            "\u001b[K     |████████████████████████████████| 48.4 MB 2.0 MB/s \n",
            "\u001b[?25hInstalling collected packages: SimpleITK\n",
            "Successfully installed SimpleITK-2.1.1\n"
          ]
        }
      ]
    },
    {
      "cell_type": "code",
      "execution_count": 3,
      "metadata": {
        "id": "mYWbIr4LWIqz"
      },
      "outputs": [],
      "source": [
        "import os\n",
        "import numpy as np\n",
        "import cv2\n",
        "import SimpleITK as sitk\n",
        "from matplotlib import pyplot as plt"
      ]
    },
    {
      "cell_type": "code",
      "execution_count": 4,
      "metadata": {
        "id": "4f29hg-sWIq3"
      },
      "outputs": [],
      "source": [
        "def loadMask(path):\n",
        "    reader = sitk.ImageFileReader()\n",
        "    reader.SetFileName(path)\n",
        "    sitkMask = reader.Execute();\n",
        "    mask = sitk.GetArrayFromImage(sitkMask)\n",
        "    \n",
        "    return mask"
      ]
    },
    {
      "cell_type": "code",
      "execution_count": 5,
      "metadata": {
        "id": "oWY3aO7uWIq4"
      },
      "outputs": [],
      "source": [
        "def show(a, title):\n",
        "    plt.imshow(a)\n",
        "    plt.title(title)\n",
        "    plt.show()"
      ]
    },
    {
      "cell_type": "code",
      "execution_count": 6,
      "metadata": {
        "id": "YgyK6X2KWIq4"
      },
      "outputs": [],
      "source": [
        "groundtruth_mask = loadMask(\"GTmask.png\")\n",
        "predicted_mask = loadMask(\"PredictMask.png\")\n",
        "\n",
        "class1Color = (255, 0, 0)\n",
        "class2Color = (0, 255, 0)\n",
        "\n",
        "groundtruth_maskRGB = np.zeros((groundtruth_mask.shape[0], groundtruth_mask.shape[1], 3), dtype = np.uint8)\n",
        "groundtruth_maskRGB[groundtruth_mask == 1] = class1Color\n",
        "groundtruth_maskRGB[groundtruth_mask == 2] = class2Color\n",
        "\n",
        "predicted_maskRGB = np.zeros((predicted_mask.shape[0], predicted_mask.shape[1], 3), dtype = np.uint8)\n",
        "predicted_maskRGB[predicted_mask == 1] = class1Color\n",
        "predicted_maskRGB[predicted_mask == 2] = class2Color"
      ]
    },
    {
      "cell_type": "code",
      "execution_count": 8,
      "metadata": {
        "id": "9laQNqnHWIq6"
      },
      "outputs": [],
      "source": [
        "maskr=np.copy(groundtruth_maskRGB[:,:,0])\n",
        "maskg=np.copy(groundtruth_maskRGB[:,:,1])"
      ]
    },
    {
      "cell_type": "code",
      "execution_count": 9,
      "metadata": {
        "id": "X7DWxa0DWIq7"
      },
      "outputs": [],
      "source": [
        "kernel=np.ones((3,3))"
      ]
    },
    {
      "cell_type": "code",
      "execution_count": 11,
      "metadata": {
        "id": "vL1Jk2KRWIq8"
      },
      "outputs": [],
      "source": [
        "erosionr=cv2.erode(maskr, kernel,iterations=1) \n",
        "dilationr=cv2.dilate(maskr, kernel, iterations=1)\n",
        "\n",
        "erosiong=cv2.erode(maskg, kernel, iterations=1) \n",
        "dilationg=cv2.dilate(maskg, kernel, iterations=1)"
      ]
    },
    {
      "cell_type": "code",
      "execution_count": 12,
      "metadata": {
        "colab": {
          "base_uri": "https://localhost:8080/"
        },
        "id": "p4OinJxrWIq9",
        "outputId": "6a97eff3-68dd-41bb-9dd1-f9eee5536d10"
      },
      "outputs": [
        {
          "output_type": "execute_result",
          "data": {
            "text/plain": [
              "(1080, 1920, 3)"
            ]
          },
          "metadata": {},
          "execution_count": 12
        }
      ],
      "source": [
        "eroded_gt=np.copy(groundtruth_maskRGB)\n",
        "eroded_gt[:,:,0]=erosionr\n",
        "eroded_gt[:,:,1]=erosiong\n",
        "\n",
        "dilated_gt=np.copy(groundtruth_maskRGB)\n",
        "dilated_gt[:,:,0]=dilationr\n",
        "dilated_gt[:,:,1]=dilationg\n",
        "\n",
        "eroded_gt.shape"
      ]
    },
    {
      "cell_type": "code",
      "execution_count": 13,
      "metadata": {
        "id": "zPTdr3gwWIq-"
      },
      "outputs": [],
      "source": [
        "groundtruth_mask=np.where(groundtruth_mask>0,255,0)\n",
        "eroded_gt=np.where(eroded_gt>0,255,0)\n",
        "dilated_gt=np.where(dilated_gt>0,255,0)\n",
        "predicted_mask=np.where(predicted_mask>0,255,0)"
      ]
    },
    {
      "cell_type": "code",
      "execution_count": 14,
      "metadata": {
        "id": "CGEDwko2WIq-"
      },
      "outputs": [],
      "source": [
        "totalfp=0\n",
        "totalfn=0\n",
        "totaltp=0\n",
        "totaltn=0"
      ]
    },
    {
      "cell_type": "code",
      "execution_count": 15,
      "metadata": {
        "id": "8RR0iQ4aWIq-"
      },
      "outputs": [],
      "source": [
        "fpimg=np.where(np.logical_and(dilated_gt==0, predicted_maskRGB==255), 255, 0) \n",
        "fp=np.count_nonzero(fpimg)\n",
        "totalfp=totalfp+fp\n",
        "\n",
        "fnimg=np.where(np.logical_and(eroded_gt==255, predicted_maskRGB==0), 255, 0)\n",
        "fn=np.count_nonzero(fnimg)                   \n",
        "totalfn=totalfn+fn\n",
        "\n",
        "tp=(np.count_nonzero(predicted_maskRGB)-fp)\n",
        "totaltp=totaltp+tp\n",
        "\n",
        "area=predicted_maskRGB.shape[0]*predicted_maskRGB.shape[1] \n",
        "tn=area-(fp+fn+tp)\n",
        "totaltn=totaltn+tn"
      ]
    },
    {
      "cell_type": "code",
      "execution_count": 7,
      "metadata": {
        "colab": {
          "base_uri": "https://localhost:8080/",
          "height": 486
        },
        "id": "qp6yLcdbWIq5",
        "outputId": "451372a3-675e-46f9-a6ef-0ea8ccffb040"
      },
      "outputs": [
        {
          "output_type": "display_data",
          "data": {
            "image/png": "[encoded data removed]",
            "text/plain": [
              "<Figure size 432x288 with 1 Axes>"
            ]
          },
          "metadata": {
            "needs_background": "light"
          }
        },
        {
          "output_type": "display_data",
          "data": {
            "image/png": "[encoded data removed]",
            "text/plain": [
              "<Figure size 432x288 with 1 Axes>"
            ]
          },
          "metadata": {
            "needs_background": "light"
          }
        }
      ],
      "source": [
        "show(groundtruth_maskRGB, \"Ground Truth Mask\")\n",
        "show(predicted_maskRGB, \"Predicted Mask\")"
      ]
    },
    {
      "cell_type": "code",
      "execution_count": 16,
      "metadata": {
        "colab": {
          "base_uri": "https://localhost:8080/",
          "height": 486
        },
        "id": "bgVu2TU3WIq_",
        "outputId": "7893f179-e6e5-491c-8fc1-addb6e0e2a76"
      },
      "outputs": [
        {
          "output_type": "display_data",
          "data": {
            "image/png": "[encoded data removed]",
            "text/plain": [
              "<Figure size 432x288 with 1 Axes>"
            ]
          },
          "metadata": {
            "needs_background": "light"
          }
        },
        {
          "output_type": "display_data",
          "data": {
            "image/png": "[encoded data removed]",
            "text/plain": [
              "<Figure size 432x288 with 1 Axes>"
            ]
          },
          "metadata": {
            "needs_background": "light"
          }
        }
      ],
      "source": [
        "show(fpimg, \"False-Positive Findings\")\n",
        "show(fnimg, \"False-Negative Findings\")"
      ]
    },
    {
      "cell_type": "code",
      "execution_count": 17,
      "metadata": {
        "colab": {
          "base_uri": "https://localhost:8080/"
        },
        "id": "T38VbP7FWIq_",
        "outputId": "68cc19c5-b3f4-42ad-b973-ec0eda80e249"
      },
      "outputs": [
        {
          "output_type": "stream",
          "name": "stdout",
          "text": [
            "Total False-Positive (pixel base): 1361\n",
            "Total False-Negative (pixel base): 6825\n",
            "Total True-Positive (pixel base): 67227\n",
            "Total True-Negative (pixel base): 1998187\n",
            "Total Area of Image: 2073600\n"
          ]
        }
      ],
      "source": [
        "print(\"Total False-Positive (pixel base):\",totalfp)\n",
        "print(\"Total False-Negative (pixel base):\",totalfn)\n",
        "print(\"Total True-Positive (pixel base):\",totaltp)\n",
        "print(\"Total True-Negative (pixel base):\",totaltn)\n",
        "print(\"Total Area of Image:\", area)"
      ]
    }
  ],
  "metadata": {
    "kernelspec": {
      "display_name": "Python 3",
      "language": "python",
      "name": "python3"
    },
    "language_info": {
      "codemirror_mode": {
        "name": "ipython",
        "version": 3
      },
      "file_extension": ".py",
      "mimetype": "text/x-python",
      "name": "python",
      "nbconvert_exporter": "python",
      "pygments_lexer": "ipython3",
      "version": "3.8.3"
    },
    "colab": {
      "name": "Metric1 (1).ipynb",
      "provenance": [],
      "collapsed_sections": []
    }
  },
  "nbformat": 4,
  "nbformat_minor": 0
}